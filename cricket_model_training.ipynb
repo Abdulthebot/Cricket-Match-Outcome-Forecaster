{
 "cells": [
  {
   "cell_type": "markdown",
   "metadata": {},
   "source": [
    "# IPL Match Outcome: Model Training"
   ]
  },
  {
   "cell_type": "code",
   "execution_count": null,
   "metadata": {},
   "outputs": [],
   "source": [
    "import pandas as pd\n",
    "import numpy as np\n",
    "from sklearn.model_selection import train_test_split\n",
    "from sklearn.preprocessing import LabelEncoder\n",
    "from xgboost import XGBClassifier\n",
    "import joblib\n",
    "\n",
    "# Load the reliable dataset\n",
    "matches = pd.read_csv('IPL Matches 2008-2020.csv')\n",
    "\n",
    "# --- Data Cleaning and Preprocessing ---\n",
    "\n",
    "# Handle team name inconsistencies (a common real-world data problem)\n",
    "matches.replace(['Delhi Daredevils'], 'Delhi Capitals', inplace=True)\n",
    "matches.replace(['Deccan Chargers'], 'Sunrisers Hyderabad', inplace=True)\n",
    "matches.replace(['Rising Pune Supergiant'], 'Rising Pune Supergiants', inplace=True) # One season name change\n",
    "\n",
    "# Drop rows with no result (e.g., washed out matches)\n",
    "matches.dropna(subset=['winner'], inplace=True)\n",
    "\n",
    "# --- Feature Engineering ---\n",
    "# We will use a simple, robust feature set.\n",
    "df = matches[['team1', 'team2', 'venue', 'toss_winner', 'toss_decision', 'winner']].copy()\n",
    "\n",
    "# Encode categorical features\n",
    "encoders = {}\n",
    "for col in ['team1', 'team2', 'venue', 'toss_winner', 'toss_decision', 'winner']:\n",
    "    le = LabelEncoder()\n",
    "    df[col] = le.fit_transform(df[col])\n",
    "    encoders[col] = le # Store the fitted encoder\n",
    "\n",
    "# --- Model Training ---\n",
    "X = df.drop('winner', axis=1)\n",
    "y = df['winner']\n",
    "\n",
    "X_train, X_test, y_train, y_test = train_test_split(X, y, test_size=0.2, random_state=42)\n",
    "\n",
    "model = XGBClassifier(use_label_encoder=False, eval_metric='mlogloss', random_state=42)\n",
    "model.fit(X_train, y_train)\n",
    "\n",
    "print(f\"Model Accuracy on Test Set: {model.score(X_test, y_test) * 100:.2f}%\")\n",
    "\n",
    "# --- Save Model and Encoders ---\n",
    "joblib.dump(model, 'cricket_model.pkl')\n",
    "joblib.dump(encoders, 'encoders.pkl')\n",
    "\n",
    "print(\"Model and encoders saved successfully.\")"
   ]
  }
 ],
 "metadata": {},
 "nbformat": 4,
 "nbformat_minor": 2
}
